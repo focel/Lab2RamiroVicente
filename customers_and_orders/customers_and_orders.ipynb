{
  "cells": [
    {
      "cell_type": "markdown",
      "metadata": {
        "id": "piiX_CRNFYUi"
      },
      "source": [
        "# Technical Challenge ! Custiomers and Orders - The lifeblood of any business!\n",
        "\n",
        "This notebook depends on two data files: customers.scv and orders.csv. These files are hosted in the cloud (or Github), so for simplicity, we are providing you with the code to download and save the two files in a folder called 'sample_data' which lives within this notebook session (not on your local computer nor Google Drive).\n",
        "\n",
        "![sample_data folder in notebook session](https://raw.githubusercontent.com/anyoneai/notebooks/main/customers_and_orders/images/sample_data_folder.png)\n",
        "\n",
        "Please execute the first code snippet before moving to the rest of the exercise as this code will import the data from the files for you to be able to execute the rest of the exercise.\n",
        "\n",
        "Remember as we said in the previous lecture, you have to save this notebook into your Google Drive by going to menu File/Save a Copy In Drive, or clicking in the button \"Copy to Drive\". This way, you will not lose any work you've done and the file will persist with your latest changes in your Google Drive. Also we recommend you to rename your .ipynb in your Google Drive, so you can easily find it in the future."
      ]
    },
    {
      "cell_type": "code",
      "execution_count": 1,
      "metadata": {
        "colab": {
          "base_uri": "https://localhost:8080/"
        },
        "id": "MWpVO242FQHC",
        "outputId": "348d0720-f39c-4527-88f5-7f55e7253857"
      },
      "outputs": [
        {
          "output_type": "stream",
          "name": "stdout",
          "text": [
            "Customers and orders CSV files have been added './sample_data'\n"
          ]
        }
      ],
      "source": [
        "import requests\n",
        "\n",
        "def import_data_files():\n",
        "  r = requests.get('https://raw.githubusercontent.com/anyoneai/notebooks/main/customers_and_orders/data/customers.csv')\n",
        "  with open('./sample_data/customers.csv', 'wb') as f:\n",
        "    f.write(r.content)\n",
        "\n",
        "  r = requests.get('https://raw.githubusercontent.com/anyoneai/notebooks/main/customers_and_orders/data/orders.csv')\n",
        "  with open('./sample_data/orders.csv', 'wb') as f:\n",
        "    f.write(r.content)\n",
        "\n",
        "import_data_files()\n",
        "print(\"Customers and orders CSV files have been added './sample_data'\")"
      ]
    },
    {
      "cell_type": "markdown",
      "metadata": {
        "id": "JQAduY-RWKyB"
      },
      "source": [
        "# Exercise 1: Processing Customers data (difficulty medium)\n",
        "\n",
        "The sample customer data in 'customers.csv' file has just 5 columns: CustomerId, First Name, Last Name, City and State\n",
        "\n",
        "![Data sample](https://raw.githubusercontent.com/anyoneai/notebooks/main/customers_and_orders/images/customers.png)\n",
        "\n",
        "We strongly recommend that you complete from the [Prep Course: Intro to Python](https://colab.research.google.com/github/anyoneai/notebooks/blob/main/python3_crash_course.ipynb) the following section:\n",
        "- Section 7: File I/O (to understand how to read CSV file)\n",
        "- Section 6: For Loop (to navigate the contents of the CSV file)\n",
        "- Section 5: Tuples, Lists, and Dictionaries (to manipulate the data of the CSV file)\n",
        "\n",
        "With this, we hope you can complete this exercise successfully. Although if you want to solve this with libraries or any other way, you are welcome to do it your way.\n",
        "\n",
        "*Hint:* We advise you to take a look at the data before you start.\n",
        "**if you want to manually take a look at the data before you start, please see the content of the data [here](https://github.com/anyoneai/notebooks/blob/main/customers_and_orders/data/customers.csv).\n",
        "\n",
        "*Hint*: There are many ways to do this exercise you can do your own, although here's some help. You can solve this exercise reading and parsing CSV files, structuring data into dictionaries, and using for loops to navigate the contents\n",
        "\n",
        "*Hint*: Also, keep in mind that data might not be clean and you might have to figure out how to deal with that data from the code, without having to modify the data source.\n",
        "\n",
        "Below are the 5 questions you'll have to answer to pass the evaluation:"
      ]
    },
    {
      "cell_type": "markdown",
      "metadata": {
        "id": "kJq7S8sBfbOW"
      },
      "source": [
        "**Question 1:** How many customers are in the file?\n",
        "(as help, we have added some comments and starter code to help you structure the solution)"
      ]
    },
    {
      "cell_type": "code",
      "execution_count": 2,
      "metadata": {
        "colab": {
          "base_uri": "https://localhost:8080/"
        },
        "id": "oMnUFBFb2RUb",
        "outputId": "d20b8c35-2b8a-45f6-b687-fcb0577cb0e3"
      },
      "outputs": [
        {
          "output_type": "stream",
          "name": "stdout",
          "text": [
            "All done!\n"
          ]
        }
      ],
      "source": [
        "from os.path import exists\n",
        "import csv\n",
        "\n",
        "# check if file can be found and open the file\n",
        "datafile = \"./sample_data/customers.csv\"\n",
        "if not exists(datafile):\n",
        "  raise SystemExit(\"You should run the first code cell and download the dataset files!\")\n",
        "\n",
        "# customers file is in the sample_data folder and can be opened.\n",
        "# Using csv reader is one way of dealing with the file\n",
        "# but it's up to you how you want to proceed\n",
        "with open(datafile, 'r') as fl:\n",
        "  csvreader = csv.reader(fl, delimiter=',')\n",
        "\n",
        "  # loop through the rows and count etc. THE REST IS UP TO YOU!\n",
        "\n",
        "\n",
        "print(\"All done!\")"
      ]
    },
    {
      "cell_type": "markdown",
      "metadata": {
        "id": "uffBnNgz_570"
      },
      "source": [
        "**Question 2:** In how many different states do the customers live in?"
      ]
    },
    {
      "cell_type": "code",
      "execution_count": 3,
      "metadata": {
        "id": "Bi_yid0sMe3-"
      },
      "outputs": [],
      "source": [
        "# open file and init vars\n",
        "# evaluate the contents of the file"
      ]
    },
    {
      "cell_type": "markdown",
      "metadata": {
        "id": "DC59SZYiMfNY"
      },
      "source": [
        "**Question 3** What is the state with most customers?"
      ]
    },
    {
      "cell_type": "code",
      "execution_count": 4,
      "metadata": {
        "id": "tfGU3w-OMhA9"
      },
      "outputs": [],
      "source": [
        "# open file and init vars\n",
        "# evaluate the contents of the file"
      ]
    },
    {
      "cell_type": "markdown",
      "metadata": {
        "id": "7mcM6cUAMhLB"
      },
      "source": [
        "**Question 4** What is the state with the least customers?"
      ]
    },
    {
      "cell_type": "code",
      "execution_count": 5,
      "metadata": {
        "id": "8T0Ka2RqMi3P"
      },
      "outputs": [],
      "source": [
        "# open file and init vars\n",
        "# evaluate the contents of the file"
      ]
    },
    {
      "cell_type": "markdown",
      "metadata": {
        "id": "h6fIy7hXHF6A"
      },
      "source": [
        "**Question 5:** What is the most common last name?"
      ]
    },
    {
      "cell_type": "code",
      "execution_count": 6,
      "metadata": {
        "id": "k8M1DmA75Km7"
      },
      "outputs": [],
      "source": [
        "# open file and init vars\n",
        "# evaluate the contents of the file"
      ]
    },
    {
      "cell_type": "markdown",
      "metadata": {
        "id": "YPRma1t9NoFk"
      },
      "source": [
        "# Exercise 2: Processing Orders data (difficulty high)\n",
        "\n",
        "The second sample files contains orders placed by customers from the first file. Be careful, this file has many rows and you most likely should not print the contents of the whole file.\n",
        "\n",
        "The file contains the following columns: CustomerID, OrderID, Date, OrderTotal, ProductName, Price\n",
        "\n",
        "![Data sample](https://raw.githubusercontent.com/anyoneai/notebooks/main/customers_and_orders/images/orders.png)\n",
        "\n",
        "*Hint:* We advise you to take a look at the data before you start.\n",
        "**if you want to manually take a look at the data before you start, please see the content of the data [here](https://raw.githubusercontent.com/anyoneai/notebooks/main/customers_and_orders/data/orders.csv).\n",
        "\n",
        "*Hint*: There are many ways to do this exercise you can do your own, although here's some help. You can solve this exercise reading and parsing CSV files, structuring data into dictionaries, and using for loops to navigate the contents\n",
        "\n",
        "*Hint*: Also, the data is not clean and you will have to figure out how to deal with that data from the code, without having to modify the data source.\n",
        "\n",
        "\n",
        "\n",
        "**Question #1:** How many unique orders are in the orders.csv file?\n",
        "\n",
        "**Question #2:** What is the average number of items per order (rounded to two decimal places)?\n",
        "\n",
        "**Question #3:** What is the highest number of items per order?\n",
        "\n",
        "**Question #4:** What is the number of orders placed in October 2021?\n",
        "\n",
        "**Question #5:** Which customer spent the most amount of money in 2021?\n",
        "\n",
        "**Question #6:** Historically, what is the best month for sales?\n",
        "\n",
        "Once you get your answers, remember to go back to the course and introduce them in the multiple choice quiz"
      ]
    },
    {
      "cell_type": "code",
      "execution_count": 7,
      "metadata": {
        "id": "8ipJTrfs5QVM"
      },
      "outputs": [],
      "source": [
        "# open and evaluate orders.csv"
      ]
    },
    {
      "cell_type": "markdown",
      "metadata": {
        "id": "ie0JW4FAk6Os"
      },
      "source": [
        "# Finished!\n",
        "\n",
        "Hope this was not too difficult and slicing and dicing the datasets was some fun. Now head on back to the course and provide the answers to the questions from this exercise."
      ]
    },
    {
      "cell_type": "code",
      "source": [
        "import pandas as pd\n",
        "\n",
        "# Cargar el archivo directamente desde la URL\n",
        "url = 'https://raw.githubusercontent.com/anyoneai/notebooks/main/customers_and_orders/data/orders.csv'\n",
        "orders_df = pd.read_csv(url)\n",
        "\n",
        "# Contar los clientes únicos\n",
        "num_customers = orders_df['CustomerID'].nunique()\n",
        "\n",
        "print(\"Número de clientes únicos:\", num_customers)\n"
      ],
      "metadata": {
        "id": "0pLS8-ffcRkz",
        "outputId": "b26e9581-f5c5-404d-90e4-9321027499c6",
        "colab": {
          "base_uri": "https://localhost:8080/"
        }
      },
      "execution_count": 8,
      "outputs": [
        {
          "output_type": "stream",
          "name": "stdout",
          "text": [
            "Número de clientes únicos: 471\n"
          ]
        }
      ]
    },
    {
      "cell_type": "code",
      "source": [
        "import pandas as pd\n",
        "\n",
        "url_customers = 'https://raw.githubusercontent.com/anyoneai/notebooks/main/customers_and_orders/data/customers.csv'\n",
        "customers_df['State'] = customers_df['State'].str.strip().str.upper()\n",
        "print(\"Total limpio:\", customers_df['State'].nunique())\n",
        "\n",
        "\n",
        "# Mostrar los estados únicos ordenados alfabéticamente para revisión\n",
        "print(\"Estados únicos:\")\n",
        "print(sorted(customers_df['State'].dropna().unique()))\n",
        "print(\"Total:\", customers_df['State'].nunique())\n"
      ],
      "metadata": {
        "id": "nlz4MrtpcfY7",
        "outputId": "0ce85a95-2c95-4889-e733-bf63dadbd817",
        "colab": {
          "base_uri": "https://localhost:8080/"
        }
      },
      "execution_count": 11,
      "outputs": [
        {
          "output_type": "stream",
          "name": "stdout",
          "text": [
            "Total limpio: 14\n",
            "Estados únicos:\n",
            "['AZ', 'CA', 'CO', 'FL', 'ID', 'IN', 'MA', 'NH', 'NM', 'NV', 'OR', 'TX', 'UT', 'WA']\n",
            "Total: 14\n"
          ]
        }
      ]
    },
    {
      "cell_type": "code",
      "source": [
        "import pandas as pd\n",
        "\n",
        "url_customers = 'https://raw.githubusercontent.com/anyoneai/notebooks/main/customers_and_orders/data/customers.csv'\n",
        "customers_df = pd.read_csv(url_customers)\n",
        "\n",
        "# Limpiar los valores de la columna 'State'\n",
        "customers_df['State'] = customers_df['State'].str.strip().str.upper()\n",
        "\n",
        "# Contar cuántos clientes hay por estado\n",
        "state_counts = customers_df['State'].value_counts()\n",
        "\n",
        "# Mostrar el estado con más clientes\n",
        "print(\"Estado con más clientes:\", state_counts.idxmax())\n",
        "print(\"Cantidad de clientes:\", state_counts.max())\n"
      ],
      "metadata": {
        "id": "2sOzn8erdGlg",
        "outputId": "e09e9bd9-e485-45ee-97fb-57651043507c",
        "colab": {
          "base_uri": "https://localhost:8080/"
        }
      },
      "execution_count": 12,
      "outputs": [
        {
          "output_type": "stream",
          "name": "stdout",
          "text": [
            "Estado con más clientes: CA\n",
            "Cantidad de clientes: 569\n"
          ]
        }
      ]
    },
    {
      "cell_type": "code",
      "source": [
        "import pandas as pd\n",
        "\n",
        "url_customers = 'https://raw.githubusercontent.com/anyoneai/notebooks/main/customers_and_orders/data/customers.csv'\n",
        "customers_df = pd.read_csv(url_customers)\n",
        "\n",
        "# Limpiar la columna 'State'\n",
        "customers_df['State'] = customers_df['State'].str.strip().str.upper()\n",
        "\n",
        "# Contar clientes por estado\n",
        "state_counts = customers_df['State'].value_counts()\n",
        "\n",
        "# Mostrar el estado con menos clientes\n",
        "print(\"Estado con menos clientes:\", state_counts.idxmin())\n",
        "print(\"Cantidad de clientes:\", state_counts.min())\n"
      ],
      "metadata": {
        "id": "BGTe8N4PdOTY",
        "outputId": "64f951ce-ed33-418f-c695-753ee23bbe0e",
        "colab": {
          "base_uri": "https://localhost:8080/"
        }
      },
      "execution_count": 13,
      "outputs": [
        {
          "output_type": "stream",
          "name": "stdout",
          "text": [
            "Estado con menos clientes: NH\n",
            "Cantidad de clientes: 1\n"
          ]
        }
      ]
    },
    {
      "cell_type": "code",
      "source": [
        "import pandas as pd\n",
        "\n",
        "url_customers = 'https://raw.githubusercontent.com/anyoneai/notebooks/main/customers_and_orders/data/customers.csv'\n",
        "customers_df = pd.read_csv(url_customers)\n",
        "\n",
        "# Asegúrate de limpiar espacios y mayúsculas/minúsculas si es necesario\n",
        "customers_df['LastName'] = customers_df['LastName'].str.strip().str.upper()\n",
        "\n",
        "# Contar los apellidos más comunes\n",
        "last_name_counts = customers_df['LastName'].value_counts()\n",
        "\n",
        "# Mostrar el apellido más común\n",
        "print(\"Apellido más común:\", last_name_counts.idxmax())\n",
        "print(\"Cantidad:\", last_name_counts.max())\n"
      ],
      "metadata": {
        "id": "owZ0o-TedVYK",
        "outputId": "0473eb5d-1943-4d32-a4eb-20413f322bff",
        "colab": {
          "base_uri": "https://localhost:8080/"
        }
      },
      "execution_count": 14,
      "outputs": [
        {
          "output_type": "stream",
          "name": "stdout",
          "text": [
            "Apellido más común: SMITH\n",
            "Cantidad: 8\n"
          ]
        }
      ]
    },
    {
      "cell_type": "code",
      "source": [
        "import pandas as pd\n",
        "\n",
        "url_orders = 'https://raw.githubusercontent.com/anyoneai/notebooks/main/customers_and_orders/data/orders.csv'\n",
        "orders_df = pd.read_csv(url_orders)\n",
        "\n",
        "# Contar órdenes únicas\n",
        "unique_orders = orders_df['OrderID'].nunique()\n",
        "\n",
        "print(\"Órdenes únicas:\", unique_orders)\n"
      ],
      "metadata": {
        "id": "6hD_RE4-ddEv",
        "outputId": "11efaff9-3010-47f0-b612-a5b79f75ba6a",
        "colab": {
          "base_uri": "https://localhost:8080/"
        }
      },
      "execution_count": 15,
      "outputs": [
        {
          "output_type": "stream",
          "name": "stdout",
          "text": [
            "Órdenes únicas: 16672\n"
          ]
        }
      ]
    },
    {
      "cell_type": "code",
      "source": [
        "import pandas as pd\n",
        "\n",
        "url_orders = 'https://raw.githubusercontent.com/anyoneai/notebooks/main/customers_and_orders/data/orders.csv'\n",
        "orders_df = pd.read_csv(url_orders)\n",
        "\n",
        "# Contar cuántos productos hay por OrderID\n",
        "items_per_order = orders_df.groupby('OrderID').size()\n",
        "\n",
        "# Calcular el promedio\n",
        "average_items = round(items_per_order.mean(), 2)\n",
        "\n",
        "print(\"Promedio de ítems por orden:\", average_items)\n"
      ],
      "metadata": {
        "id": "ecLK8zZrdmTr",
        "outputId": "67ac5921-b0e4-4d99-9b79-6951e9b51101",
        "colab": {
          "base_uri": "https://localhost:8080/"
        }
      },
      "execution_count": 16,
      "outputs": [
        {
          "output_type": "stream",
          "name": "stdout",
          "text": [
            "Promedio de ítems por orden: 1.76\n"
          ]
        }
      ]
    },
    {
      "cell_type": "code",
      "source": [
        "import pandas as pd\n",
        "\n",
        "url_orders = 'https://raw.githubusercontent.com/anyoneai/notebooks/main/customers_and_orders/data/orders.csv'\n",
        "orders_df = pd.read_csv(url_orders)\n",
        "\n",
        "# Contar cuántos productos hay por OrderID\n",
        "items_per_order = orders_df.groupby('OrderID').size()\n",
        "\n",
        "# Obtener el máximo\n",
        "max_items = items_per_order.max()\n",
        "\n",
        "print(\"Máximo número de ítems en una orden:\", max_items)\n"
      ],
      "metadata": {
        "id": "jBaL20zQdsjN",
        "outputId": "4497cf4f-864f-4106-b0ca-83b486e39e2e",
        "colab": {
          "base_uri": "https://localhost:8080/"
        }
      },
      "execution_count": 17,
      "outputs": [
        {
          "output_type": "stream",
          "name": "stdout",
          "text": [
            "Máximo número de ítems en una orden: 35\n"
          ]
        }
      ]
    },
    {
      "cell_type": "code",
      "source": [
        "import pandas as pd\n",
        "\n",
        "url_orders = 'https://raw.githubusercontent.com/anyoneai/notebooks/main/customers_and_orders/data/orders.csv'\n",
        "orders_df = pd.read_csv(url_orders)\n",
        "\n",
        "# Convertir la columna 'Date' a datetime\n",
        "orders_df['Date'] = pd.to_datetime(orders_df['Date'])\n",
        "\n",
        "# Filtrar órdenes de octubre 2021 y contar órdenes únicas\n",
        "october_orders = orders_df[\n",
        "    (orders_df['Date'].dt.year == 2021) & (orders_df['Date'].dt.month == 10)\n",
        "]['OrderID'].nunique()\n",
        "\n",
        "print(\"Órdenes en octubre 2021:\", october_orders)\n"
      ],
      "metadata": {
        "id": "MgSezou9d0am",
        "outputId": "a6bb532f-1883-4e37-a1a9-d84a28482bc1",
        "colab": {
          "base_uri": "https://localhost:8080/"
        }
      },
      "execution_count": 18,
      "outputs": [
        {
          "output_type": "stream",
          "name": "stdout",
          "text": [
            "Órdenes en octubre 2021: 267\n"
          ]
        }
      ]
    },
    {
      "cell_type": "code",
      "source": [
        "import pandas as pd\n",
        "\n",
        "url_orders = 'https://raw.githubusercontent.com/anyoneai/notebooks/main/customers_and_orders/data/orders.csv'\n",
        "orders_df = pd.read_csv(url_orders)\n",
        "\n",
        "# Asegurar que la fecha sea datetime\n",
        "orders_df['Date'] = pd.to_datetime(orders_df['Date'])\n",
        "\n",
        "# Filtrar por año 2021\n",
        "orders_2021 = orders_df[orders_df['Date'].dt.year == 2021]\n",
        "\n",
        "# Agrupar por CustomerID y OrderID para evitar duplicar totales por producto\n",
        "order_totals = orders_2021.drop_duplicates(subset=['OrderID'])[['CustomerID', 'OrderTotal']]\n",
        "\n",
        "# Sumar por cliente\n",
        "total_by_customer = order_totals.groupby('CustomerID')['OrderTotal'].sum()\n",
        "\n",
        "# Obtener el cliente con mayor gasto\n",
        "top_customer = total_by_customer.idxmax()\n",
        "max_spent = total_by_customer.max()\n",
        "\n",
        "print(\"Cliente con mayor gasto:\", top_customer)\n",
        "print(\"Monto total gastado:\", max_spent)\n"
      ],
      "metadata": {
        "id": "WTPdWFIad8a_",
        "outputId": "b7df101a-3462-43b9-a03b-0689bf574de1",
        "colab": {
          "base_uri": "https://localhost:8080/"
        }
      },
      "execution_count": 20,
      "outputs": [
        {
          "output_type": "stream",
          "name": "stdout",
          "text": [
            "Cliente con mayor gasto: 5172443\n",
            "Monto total gastado: 7755.0\n"
          ]
        }
      ]
    },
    {
      "cell_type": "code",
      "source": [
        "import pandas as pd\n",
        "\n",
        "url_orders = 'https://raw.githubusercontent.com/anyoneai/notebooks/main/customers_and_orders/data/orders.csv'\n",
        "orders_df = pd.read_csv(url_orders)\n",
        "\n",
        "# Convertir la columna Date a datetime\n",
        "orders_df['Date'] = pd.to_datetime(orders_df['Date'])\n",
        "\n",
        "# Eliminar duplicados por OrderID para no sumar múltiples veces por producto\n",
        "unique_orders = orders_df.drop_duplicates(subset='OrderID')\n",
        "\n",
        "# Agrupar por mes y sumar ventas\n",
        "monthly_sales = unique_orders.groupby(orders_df['Date'].dt.to_period('M'))['OrderTotal'].sum()\n",
        "\n",
        "# Obtener el mes con más ventas\n",
        "best_month = monthly_sales.idxmax()\n",
        "highest_sales = monthly_sales.max()\n",
        "\n",
        "print(\"Mejor mes histórico para ventas:\", best_month)\n",
        "print(\"Total de ventas en ese mes:\", highest_sales)\n"
      ],
      "metadata": {
        "id": "M9Z3qAL5eTU-",
        "outputId": "cf9ab16d-6090-4489-fe0e-869121699582",
        "colab": {
          "base_uri": "https://localhost:8080/"
        }
      },
      "execution_count": 22,
      "outputs": [
        {
          "output_type": "stream",
          "name": "stdout",
          "text": [
            "Mejor mes histórico para ventas: 2022-01\n",
            "Total de ventas en ese mes: 81268.0\n"
          ]
        }
      ]
    }
  ],
  "metadata": {
    "colab": {
      "name": "customers_and_orders.ipynb",
      "provenance": []
    },
    "kernelspec": {
      "display_name": "Python 3 (ipykernel)",
      "language": "python",
      "name": "python3"
    },
    "language_info": {
      "codemirror_mode": {
        "name": "ipython",
        "version": 3
      },
      "file_extension": ".py",
      "mimetype": "text/x-python",
      "name": "python",
      "nbconvert_exporter": "python",
      "pygments_lexer": "ipython3",
      "version": "3.9.9"
    }
  },
  "nbformat": 4,
  "nbformat_minor": 0
}